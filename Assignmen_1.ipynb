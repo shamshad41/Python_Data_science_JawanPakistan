{
 "cells": [
  {
   "cell_type": "markdown",
   "metadata": {},
   "source": [
    "# Ques 1\n"
   ]
  },
  {
   "cell_type": "code",
   "execution_count": 1,
   "metadata": {},
   "outputs": [
    {
     "name": "stdout",
     "output_type": "stream",
     "text": [
      "Twinkle, twinkle, little star. \n",
      "\tHow I Wonder what you are! \n",
      "\t\t Up above the world so high, \n",
      "\t\t Like a demand in the sky. \n",
      "Twinkle twinkle Little star. \n",
      "\tHow i wonder what you are!\n"
     ]
    }
   ],
   "source": [
    "print(\"Twinkle, twinkle, little star. \\n\\tHow I Wonder what you are! \\n\\t\\t Up above the world so high, \\n\\t\\t Like a demand in the sky. \\nTwinkle twinkle Little star. \\n\\tHow i wonder what you are!\")"
   ]
  },
  {
   "cell_type": "markdown",
   "metadata": {},
   "source": [
    "# QUES_2\n"
   ]
  },
  {
   "cell_type": "code",
   "execution_count": 2,
   "metadata": {},
   "outputs": [
    {
     "name": "stdout",
     "output_type": "stream",
     "text": [
      "The python version is : 3.7.6 (default, Jan  8 2020, 16:21:45) [MSC v.1916 32 bit (Intel)]\n"
     ]
    }
   ],
   "source": [
    "import sys;\n",
    "print(\"The python version is :\" , sys.version)"
   ]
  },
  {
   "cell_type": "markdown",
   "metadata": {},
   "source": [
    "# QUES_3"
   ]
  },
  {
   "cell_type": "code",
   "execution_count": 3,
   "metadata": {},
   "outputs": [
    {
     "name": "stdout",
     "output_type": "stream",
     "text": [
      "The current date and time is : 2022-01-01 14:24:25.465138\n"
     ]
    }
   ],
   "source": [
    "import datetime;\n",
    "\n",
    "date_time = datetime.datetime.now();\n",
    "print('The current date and time is : %s' % date_time );"
   ]
  },
  {
   "cell_type": "markdown",
   "metadata": {},
   "source": [
    "# QUES_4"
   ]
  },
  {
   "cell_type": "code",
   "execution_count": 4,
   "metadata": {},
   "outputs": [
    {
     "name": "stdout",
     "output_type": "stream",
     "text": [
      "Enter the area number: 3\n",
      "The radius of a circle is :  28.274333882308138\n"
     ]
    }
   ],
   "source": [
    "from math import pi\n",
    "\n",
    "radius =  int(input('Enter the area number: '));\n",
    "pi = pi * radius**2;\n",
    "print(\"The radius of a circle is : \", pi)"
   ]
  },
  {
   "cell_type": "markdown",
   "metadata": {},
   "source": [
    "# QUES_5"
   ]
  },
  {
   "cell_type": "code",
   "execution_count": 5,
   "metadata": {},
   "outputs": [
    {
     "name": "stdout",
     "output_type": "stream",
     "text": [
      "Enter your first name: Shamshad\n",
      "Enter your last name: Hussain\n",
      "The reverse name is :  Hussain Shamshad\n"
     ]
    }
   ],
   "source": [
    "first_name = input('Enter your first name: ');\n",
    "last_name = input('Enter your last name: ');\n",
    "full_name = (last_name + \" \" + first_name );\n",
    "print('The reverse name is : ', full_name)\n"
   ]
  },
  {
   "cell_type": "markdown",
   "metadata": {},
   "source": [
    "# QUES_6"
   ]
  },
  {
   "cell_type": "code",
   "execution_count": 6,
   "metadata": {},
   "outputs": [
    {
     "name": "stdout",
     "output_type": "stream",
     "text": [
      "Enter First Number: 54\n",
      "Enter Second Number: 89\n",
      "143\n"
     ]
    }
   ],
   "source": [
    "num1 = int(input('Enter First Number: '));\n",
    "num2 = int(input('Enter Second Number: '));\n",
    "marge=  num1 + num2\n",
    "print(marge)"
   ]
  }
 ],
 "metadata": {
  "kernelspec": {
   "display_name": "Python 3",
   "language": "python",
   "name": "python3"
  },
  "language_info": {
   "codemirror_mode": {
    "name": "ipython",
    "version": 3
   },
   "file_extension": ".py",
   "mimetype": "text/x-python",
   "name": "python",
   "nbconvert_exporter": "python",
   "pygments_lexer": "ipython3",
   "version": "3.7.6"
  }
 },
 "nbformat": 4,
 "nbformat_minor": 4
}
